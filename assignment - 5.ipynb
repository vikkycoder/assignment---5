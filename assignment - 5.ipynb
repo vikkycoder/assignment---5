{
 "cells": [
  {
   "cell_type": "markdown",
   "id": "0c2c3010-01d7-4b9a-8e98-6f1012fcf96c",
   "metadata": {},
   "source": [
    "Q1, Create a vehicle class with an init method having instance variables as name_of_vehicle, max_speed\n",
    "and average_of_vehicle."
   ]
  },
  {
   "cell_type": "code",
   "execution_count": 1,
   "id": "fb581c09-fb4d-4c29-b3f4-d7fe92a0ba35",
   "metadata": {},
   "outputs": [],
   "source": [
    "class vehicle:\n",
    "    \n",
    "    def __init__(self, name_of_vehicle, max_speed,average_speed):\n",
    "        self.name_of_vehicle = name_of_vehicle\n",
    "        self.max_speed = max_speed\n",
    "        self.average_speed = average_speed"
   ]
  },
  {
   "cell_type": "code",
   "execution_count": 2,
   "id": "e3e0f5fc-0d70-4ca4-b2c9-e57c92a4f5bd",
   "metadata": {},
   "outputs": [],
   "source": [
    "v = vehicle(\"tata\",180,40)"
   ]
  },
  {
   "cell_type": "code",
   "execution_count": 3,
   "id": "4c409d00-28b1-49fa-8e11-92e8e97b0d64",
   "metadata": {},
   "outputs": [
    {
     "data": {
      "text/plain": [
       "40"
      ]
     },
     "execution_count": 3,
     "metadata": {},
     "output_type": "execute_result"
    }
   ],
   "source": [
    "v.average_speed"
   ]
  },
  {
   "cell_type": "code",
   "execution_count": 6,
   "id": "8a68046f-118e-4503-af6b-9bca637a3a19",
   "metadata": {},
   "outputs": [
    {
     "data": {
      "text/plain": [
       "180"
      ]
     },
     "execution_count": 6,
     "metadata": {},
     "output_type": "execute_result"
    }
   ],
   "source": [
    "v.max_speed"
   ]
  },
  {
   "cell_type": "code",
   "execution_count": 7,
   "id": "addd8174-a216-4d20-9a47-6e7b8eb6e1f8",
   "metadata": {},
   "outputs": [
    {
     "data": {
      "text/plain": [
       "'tata'"
      ]
     },
     "execution_count": 7,
     "metadata": {},
     "output_type": "execute_result"
    }
   ],
   "source": [
    "v.name_of_vehicle"
   ]
  },
  {
   "cell_type": "markdown",
   "id": "622ff878-062b-40d1-91cc-028fcf206e6e",
   "metadata": {},
   "source": [
    "Q2. Create a child class car from the vehicle class created in Que 1, which will inherit the vehicle class.\n",
    "Create a method named seating_capacity which takes capacity as an argument and returns the name of\n",
    "the vehicle and its seating capacity."
   ]
  },
  {
   "cell_type": "code",
   "execution_count": 24,
   "id": "155c5263-7404-4d54-9c0e-fc00f290f65d",
   "metadata": {},
   "outputs": [],
   "source": [
    "class car(vehicle):\n",
    "    \n",
    "    def capasity(self,seating_capasity):\n",
    "        self.seating_capasity = seating_capasity\n",
    "        \n",
    "    def return_car_details(self):\n",
    "        return self.seating_capasity,self.name_of_vehicle "
   ]
  },
  {
   "cell_type": "code",
   "execution_count": 25,
   "id": "ca7ac3a4-8329-43ec-9e39-a472e88f925b",
   "metadata": {},
   "outputs": [],
   "source": [
    "c = car(\"tata indica\",140,40)"
   ]
  },
  {
   "cell_type": "code",
   "execution_count": 26,
   "id": "6e9b7f4d-9bd9-4d9b-9300-065b04afb026",
   "metadata": {},
   "outputs": [],
   "source": [
    "c.capasity(5)"
   ]
  },
  {
   "cell_type": "code",
   "execution_count": 27,
   "id": "5b407353-6925-4359-bc93-f9f0416332fb",
   "metadata": {},
   "outputs": [
    {
     "data": {
      "text/plain": [
       "(5, 'tata indica')"
      ]
     },
     "execution_count": 27,
     "metadata": {},
     "output_type": "execute_result"
    }
   ],
   "source": [
    "c.return_car_details()"
   ]
  },
  {
   "cell_type": "markdown",
   "id": "9f2f67d0-610f-4b28-b950-cd0ad306a73d",
   "metadata": {},
   "source": [
    "Q3. What is multiple inheritance? Write a python code to demonstrate multiple inheritance."
   ]
  },
  {
   "cell_type": "markdown",
   "id": "4f96994d-4778-40fc-8004-04f6dbbe2555",
   "metadata": {},
   "source": [
    "Multiple inheritance means that a subclass can inherit from two or more superclasses."
   ]
  },
  {
   "cell_type": "code",
   "execution_count": 28,
   "id": "55388ff2-9bfb-448f-bfe0-63280f2f4e17",
   "metadata": {},
   "outputs": [],
   "source": [
    "class test:\n",
    "    def test_class(self):\n",
    "        return \"this is a class1\" "
   ]
  },
  {
   "cell_type": "code",
   "execution_count": 30,
   "id": "24e81a6e-ff30-4dfa-a9de-41defbfbef34",
   "metadata": {},
   "outputs": [],
   "source": [
    "class test1:\n",
    "    def tes1t_class(self):\n",
    "        return \"this is a class2\""
   ]
  },
  {
   "cell_type": "code",
   "execution_count": 31,
   "id": "48621e8a-ca1b-4e45-9a18-330196bac45b",
   "metadata": {},
   "outputs": [],
   "source": [
    "class test2:\n",
    "    def test2_class(self):\n",
    "        return \"this is a class3\""
   ]
  },
  {
   "cell_type": "code",
   "execution_count": 32,
   "id": "0e9b6f10-2445-444a-9c49-24434725ab3b",
   "metadata": {},
   "outputs": [],
   "source": [
    "class test4(test,test1,test2):\n",
    "    pass"
   ]
  },
  {
   "cell_type": "code",
   "execution_count": 36,
   "id": "9799e884-9af0-4fb0-a38f-ef5bad28954a",
   "metadata": {},
   "outputs": [],
   "source": [
    "obj_test4 = test4()"
   ]
  },
  {
   "cell_type": "code",
   "execution_count": 37,
   "id": "cbd3353d-9a67-4be2-85cb-e8cd2635e53e",
   "metadata": {},
   "outputs": [
    {
     "data": {
      "text/plain": [
       "'this is a class2'"
      ]
     },
     "execution_count": 37,
     "metadata": {},
     "output_type": "execute_result"
    }
   ],
   "source": [
    "obj_test4.tes1t_class()"
   ]
  },
  {
   "cell_type": "code",
   "execution_count": 38,
   "id": "54ef444c-1359-4890-abf9-6e6dad895864",
   "metadata": {},
   "outputs": [
    {
     "data": {
      "text/plain": [
       "'this is a class3'"
      ]
     },
     "execution_count": 38,
     "metadata": {},
     "output_type": "execute_result"
    }
   ],
   "source": [
    "obj_test4.test2_class()"
   ]
  },
  {
   "cell_type": "markdown",
   "id": "db741bb0-1813-439a-bb6d-aef6103484eb",
   "metadata": {},
   "source": [
    "Q4. What are getter and setter in python? Create a class and create a getter and a setter method in this\n",
    "class."
   ]
  },
  {
   "cell_type": "markdown",
   "id": "dbcdda22-17c9-4f13-9610-a9614e3e54c1",
   "metadata": {},
   "source": [
    "\n",
    "Getter: A method that allows you to access an attribute in a given class. Setter: A method that allows you to set or mutate the value of an attribute in a class."
   ]
  },
  {
   "cell_type": "markdown",
   "id": "9d5eef5c-d30e-4be6-b822-b924672465d1",
   "metadata": {},
   "source": []
  },
  {
   "cell_type": "markdown",
   "id": "1d648b8d-8460-403d-a489-806477a9bf57",
   "metadata": {},
   "source": [
    "Q5.What is method overriding in python? Write a python code to demonstrate method overriding."
   ]
  },
  {
   "cell_type": "markdown",
   "id": "f87ebb4c-ddd8-4e02-a4cd-77f20b02940d",
   "metadata": {},
   "source": [
    "Method overriding is a feature of object-oriented programming languages where the subclass or child class can provide the program with specific characteristics or a specific implementation process of data provided that are already defined in the parent class or superclass."
   ]
  },
  {
   "cell_type": "markdown",
   "id": "b00b7e52-0300-4197-ad62-00c4ef98be55",
   "metadata": {},
   "source": [
    "in question no 3 we already writr a code so that is the answer of this ."
   ]
  },
  {
   "cell_type": "code",
   "execution_count": null,
   "id": "8bad22fd-130b-4f35-9960-6ac9a444bfba",
   "metadata": {},
   "outputs": [],
   "source": []
  }
 ],
 "metadata": {
  "kernelspec": {
   "display_name": "Python 3 (ipykernel)",
   "language": "python",
   "name": "python3"
  },
  "language_info": {
   "codemirror_mode": {
    "name": "ipython",
    "version": 3
   },
   "file_extension": ".py",
   "mimetype": "text/x-python",
   "name": "python",
   "nbconvert_exporter": "python",
   "pygments_lexer": "ipython3",
   "version": "3.10.8"
  }
 },
 "nbformat": 4,
 "nbformat_minor": 5
}
